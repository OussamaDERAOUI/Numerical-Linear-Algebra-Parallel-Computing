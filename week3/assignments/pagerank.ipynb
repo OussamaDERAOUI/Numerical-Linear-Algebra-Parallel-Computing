{
 "cells": [
  {
   "cell_type": "markdown",
   "id": "87d64ccf",
   "metadata": {},
   "source": [
    "Use this cell for all your imports"
   ]
  },
  {
   "cell_type": "code",
   "execution_count": 3,
   "id": "40623a0d",
   "metadata": {},
   "outputs": [],
   "source": [
    "import numpy as np\n",
    "from scipy.sparse import csr_matrix\n",
    "import networkx as nx\n",
    "import matplotlib.pyplot as plt"
   ]
  },
  {
   "cell_type": "code",
   "execution_count": null,
   "id": "7919f6e6",
   "metadata": {},
   "outputs": [],
   "source": [
    "#pip install --upgrade scipy"
   ]
  },
  {
   "cell_type": "markdown",
   "id": "164f305b",
   "metadata": {},
   "source": [
    "You will be working with the file data.txt. Use this cell to load its content into the appropriate data structure."
   ]
  },
  {
   "cell_type": "code",
   "execution_count": 4,
   "id": "be42fee4",
   "metadata": {},
   "outputs": [],
   "source": [
    "with open('data.txt', 'r') as f:\n",
    "    next(f)  # skip the first line\n",
    "    next(f)  # skip the second line\n",
    "    next(f)  # skip the third line\n",
    "    data = [tuple(map(int, line.strip().split())) for line in f if not line.startswith('#')]"
   ]
  },
  {
   "cell_type": "markdown",
   "id": "4c7a8af4",
   "metadata": {},
   "source": [
    "Use this cell to normalize the matrix as you see fit."
   ]
  },
  {
   "cell_type": "code",
   "execution_count": 5,
   "id": "2e612783",
   "metadata": {},
   "outputs": [],
   "source": [
    "n_nodes = max(max(pair) for pair in data)\n",
    "row = [pair[0]-1 for pair in data]  \n",
    "col = [pair[1]-1 for pair in data]  \n",
    "adjacency_matrix = csr_matrix(([1]*len(data), (row, col)), shape=(n_nodes, n_nodes))"
   ]
  },
  {
   "cell_type": "markdown",
   "id": "5a4ee89a",
   "metadata": {},
   "source": [
    "Apply the PageRank algorithm to the matrix you created."
   ]
  },
  {
   "cell_type": "code",
   "execution_count": 6,
   "id": "ae9319ef",
   "metadata": {},
   "outputs": [
    {
     "name": "stdout",
     "output_type": "stream",
     "text": [
      "Node: 9407087, Score: 0.006239\n",
      "Node: 9503124, Score: 0.004633\n",
      "Node: 9510017, Score: 0.004385\n",
      "Node: 9402044, Score: 0.003935\n",
      "Node: 9711200, Score: 0.003410\n",
      "Node: 9410167, Score: 0.003407\n",
      "Node: 9408099, Score: 0.003190\n",
      "Node: 9207016, Score: 0.003114\n",
      "Node: 9402002, Score: 0.002962\n",
      "Node: 9610043, Score: 0.002753\n"
     ]
    }
   ],
   "source": [
    "edges = [(pair[0], pair[1]) for pair in data]\n",
    "\n",
    "graph = nx.DiGraph()\n",
    "graph.add_edges_from(edges) \n",
    "\n",
    "pagerank_scores = nx.pagerank(graph)\n",
    "\n",
    "top_nodes = sorted(pagerank_scores.items(), key=lambda x: x[1], reverse=True)[:10]\n",
    "for node, score in top_nodes:\n",
    "    print(f\"Node: {node}, Score: {score:.6f}\")"
   ]
  },
  {
   "cell_type": "markdown",
   "id": "005047ad",
   "metadata": {},
   "source": [
    "Output a list of the 100 most important papers along with their importance"
   ]
  },
  {
   "cell_type": "code",
   "execution_count": 7,
   "id": "46d1896d",
   "metadata": {},
   "outputs": [
    {
     "name": "stdout",
     "output_type": "stream",
     "text": [
      "Paper ID: 9407087\tImportance Score: 0.006238910935211853\n",
      "Paper ID: 9503124\tImportance Score: 0.004632588508880592\n",
      "Paper ID: 9510017\tImportance Score: 0.00438516933679889\n",
      "Paper ID: 9402044\tImportance Score: 0.00393534733441006\n",
      "Paper ID: 9711200\tImportance Score: 0.003409682539237114\n",
      "Paper ID: 9410167\tImportance Score: 0.003407370515336668\n",
      "Paper ID: 9408099\tImportance Score: 0.0031898690485387365\n",
      "Paper ID: 9207016\tImportance Score: 0.003113861363851895\n",
      "Paper ID: 9402002\tImportance Score: 0.002962458707729361\n",
      "Paper ID: 9610043\tImportance Score: 0.0027529030118643707\n",
      "Paper ID: 9205068\tImportance Score: 0.0026620045653103336\n",
      "Paper ID: 9510135\tImportance Score: 0.0025914346362725252\n",
      "Paper ID: 9201015\tImportance Score: 0.0025543499779128705\n",
      "Paper ID: 9205027\tImportance Score: 0.0024590344235207264\n",
      "Paper ID: 9304154\tImportance Score: 0.002332519070232545\n",
      "Paper ID: 9802150\tImportance Score: 0.002255515474336817\n",
      "Paper ID: 9401139\tImportance Score: 0.0022459538984583504\n",
      "Paper ID: 9504090\tImportance Score: 0.0021065021774172156\n",
      "Paper ID: 9802109\tImportance Score: 0.002070880784653943\n",
      "Paper ID: 208020\tImportance Score: 0.002068525647306936\n",
      "Paper ID: 9305185\tImportance Score: 0.002040554603308642\n",
      "Paper ID: 9207053\tImportance Score: 0.001993148466776629\n",
      "Paper ID: 9307049\tImportance Score: 0.001887709288041906\n",
      "Paper ID: 9204102\tImportance Score: 0.0018528256788076104\n",
      "Paper ID: 9510209\tImportance Score: 0.0018088035867362417\n",
      "Paper ID: 9501068\tImportance Score: 0.00175354130457409\n",
      "Paper ID: 9906064\tImportance Score: 0.0017518795101205582\n",
      "Paper ID: 9402032\tImportance Score: 0.0017213918536802039\n",
      "Paper ID: 9301042\tImportance Score: 0.001639724508403702\n",
      "Paper ID: 9403198\tImportance Score: 0.001595858193970131\n",
      "Paper ID: 9412184\tImportance Score: 0.0015496931103804335\n",
      "Paper ID: 9408074\tImportance Score: 0.0015258849343282505\n",
      "Paper ID: 9504047\tImportance Score: 0.0015156794311740193\n",
      "Paper ID: 9411149\tImportance Score: 0.001506574777429963\n",
      "Paper ID: 9205081\tImportance Score: 0.0014715069062053831\n",
      "Paper ID: 9308139\tImportance Score: 0.0014686452350971032\n",
      "Paper ID: 9601029\tImportance Score: 0.0014486524799507646\n",
      "Paper ID: 9208055\tImportance Score: 0.0014432770672269859\n",
      "Paper ID: 9407031\tImportance Score: 0.001435179768435684\n",
      "Paper ID: 9211056\tImportance Score: 0.0014333609029919367\n",
      "Paper ID: 9209016\tImportance Score: 0.0014307947869440438\n",
      "Paper ID: 9201019\tImportance Score: 0.0014287607057724674\n",
      "Paper ID: 9204083\tImportance Score: 0.0014023316546094872\n",
      "Paper ID: 9908142\tImportance Score: 0.0013961530795430542\n",
      "Paper ID: 9602052\tImportance Score: 0.0013405206041600512\n",
      "Paper ID: 9201054\tImportance Score: 0.001335001832330701\n",
      "Paper ID: 9402005\tImportance Score: 0.0013158842616597026\n",
      "Paper ID: 9205051\tImportance Score: 0.0012981851904807211\n",
      "Paper ID: 9207060\tImportance Score: 0.0012864093250778722\n",
      "Paper ID: 9201061\tImportance Score: 0.0012653520673838725\n",
      "Paper ID: 9508143\tImportance Score: 0.001245499588014587\n",
      "Paper ID: 9510169\tImportance Score: 0.0012441498848123358\n",
      "Paper ID: 9711162\tImportance Score: 0.0012358228920729326\n",
      "Paper ID: 9211097\tImportance Score: 0.0012049579947022706\n",
      "Paper ID: 9303057\tImportance Score: 0.001155972740004745\n",
      "Paper ID: 9501030\tImportance Score: 0.0011551224627219482\n",
      "Paper ID: 9512062\tImportance Score: 0.0011522281729140535\n",
      "Paper ID: 9212085\tImportance Score: 0.0011482254397214467\n",
      "Paper ID: 9203066\tImportance Score: 0.0011395498302745309\n",
      "Paper ID: 9309097\tImportance Score: 0.0010961773185337086\n",
      "Paper ID: 9505053\tImportance Score: 0.0010713175949293276\n",
      "Paper ID: 9611050\tImportance Score: 0.0010699124981604976\n",
      "Paper ID: 9409089\tImportance Score: 0.0010582170961610517\n",
      "Paper ID: 9512077\tImportance Score: 0.0010576759941927322\n",
      "Paper ID: 9204099\tImportance Score: 0.0010447496269790114\n",
      "Paper ID: 9405124\tImportance Score: 0.0010330433298317437\n",
      "Paper ID: 9511030\tImportance Score: 0.0010319925431530985\n",
      "Paper ID: 9403040\tImportance Score: 0.0010128340075902216\n",
      "Paper ID: 9205037\tImportance Score: 0.001000756228076676\n",
      "Paper ID: 9608024\tImportance Score: 0.0009883631558846107\n",
      "Paper ID: 9205008\tImportance Score: 0.0009873499233636455\n",
      "Paper ID: 9201059\tImportance Score: 0.0009713312513698086\n",
      "Paper ID: 9206016\tImportance Score: 0.0009531802292108287\n",
      "Paper ID: 9504027\tImportance Score: 0.0009459826613365557\n",
      "Paper ID: 9209116\tImportance Score: 0.0009458857328682469\n",
      "Paper ID: 9208078\tImportance Score: 0.0009458037394655039\n",
      "Paper ID: 9309145\tImportance Score: 0.0009357931340481206\n",
      "Paper ID: 9403195\tImportance Score: 0.000932938310792437\n",
      "Paper ID: 9406128\tImportance Score: 0.0009287039218523412\n",
      "Paper ID: 9201056\tImportance Score: 0.0009164928331741111\n",
      "Paper ID: 9512059\tImportance Score: 0.0009124900133887183\n",
      "Paper ID: 9602022\tImportance Score: 0.0009000761208606442\n",
      "Paper ID: 9905111\tImportance Score: 0.0008993369530830464\n",
      "Paper ID: 9507121\tImportance Score: 0.0008931520221495847\n",
      "Paper ID: 9910093\tImportance Score: 0.0008810541397424813\n",
      "Paper ID: 9510086\tImportance Score: 0.0008541896003440493\n",
      "Paper ID: 9411048\tImportance Score: 0.0008483779150919315\n",
      "Paper ID: 9507158\tImportance Score: 0.0008440029800782478\n",
      "Paper ID: 9410073\tImportance Score: 0.0008419291826790974\n",
      "Paper ID: 9511222\tImportance Score: 0.000828362517792909\n",
      "Paper ID: 9602135\tImportance Score: 0.0008268124294984031\n",
      "Paper ID: 9611042\tImportance Score: 0.0008257159474130422\n",
      "Paper ID: 9504145\tImportance Score: 0.0008193759861939756\n",
      "Paper ID: 9506194\tImportance Score: 0.0008108888729566523\n",
      "Paper ID: 9602043\tImportance Score: 0.000807902722805668\n",
      "Paper ID: 9407111\tImportance Score: 0.0007946125462059471\n",
      "Paper ID: 9506126\tImportance Score: 0.0007916848496729913\n",
      "Paper ID: 9507050\tImportance Score: 0.0007778248401465181\n",
      "Paper ID: 9411057\tImportance Score: 0.0007762991993368319\n",
      "Paper ID: 9510225\tImportance Score: 0.0007758015378405599\n"
     ]
    }
   ],
   "source": [
    "pagerank_scores = nx.pagerank(graph)\n",
    "\n",
    "\n",
    "sorted_nodes = sorted(pagerank_scores.items(), key=lambda x: x[1], reverse=True)\n",
    "\n",
    "for node, score in sorted_nodes[:100]:\n",
    "    print(f\"Paper ID: {node}\\tImportance Score: {score}\")"
   ]
  },
  {
   "cell_type": "markdown",
   "id": "b0ba2208",
   "metadata": {},
   "source": [
    "Visualize your results"
   ]
  },
  {
   "cell_type": "code",
   "execution_count": 8,
   "id": "25affee6",
   "metadata": {},
   "outputs": [
    {
     "data": {
      "image/png": "[encoded data removed]",
      "text/plain": [
       "<Figure size 432x288 with 1 Axes>"
      ]
     },
     "metadata": {
      "needs_background": "light"
     },
     "output_type": "display_data"
    }
   ],
   "source": [
    "pagerank_scores = nx.pagerank(graph)\n",
    "\n",
    "top_papers = sorted(pagerank_scores.items(), key=lambda x: x[1], reverse=True)[:100]\n",
    "scores = [score for paper, score in top_papers]\n",
    "\n",
    "\n",
    "plt.hist(scores, bins=20 , color=\"black\")\n",
    "plt.xlabel('PageRank score')\n",
    "plt.ylabel('Frequency')\n",
    "plt.title('Distribution of PageRank scores for top 100 papers')\n",
    "plt.show()"
   ]
  },
  {
   "cell_type": "code",
   "execution_count": null,
   "id": "ffcad11a",
   "metadata": {},
   "outputs": [],
   "source": []
  }
 ],
 "metadata": {
  "kernelspec": {
   "display_name": "Python 3 (ipykernel)",
   "language": "python",
   "name": "python3"
  },
  "language_info": {
   "codemirror_mode": {
    "name": "ipython",
    "version": 3
   },
   "file_extension": ".py",
   "mimetype": "text/x-python",
   "name": "python",
   "nbconvert_exporter": "python",
   "pygments_lexer": "ipython3",
   "version": "3.9.12"
  }
 },
 "nbformat": 4,
 "nbformat_minor": 5
}
