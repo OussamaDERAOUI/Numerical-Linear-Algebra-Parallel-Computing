{
 "cells": [
  {
   "cell_type": "markdown",
   "id": "87d64ccf",
   "metadata": {},
   "source": [
    "Use this cell for all your imports"
   ]
  },
  {
   "cell_type": "code",
   "execution_count": 1,
   "id": "40623a0d",
   "metadata": {},
   "outputs": [],
   "source": [
    "import numpy as np\n",
    "from scipy.sparse import csr_matrix\n",
    "import networkx as nx\n",
    "import matplotlib.pyplot as plt\n"
   ]
  },
  {
   "cell_type": "markdown",
   "id": "164f305b",
   "metadata": {},
   "source": [
    "You will be working with the file data.txt. Use this cell to load its content into the appropriate data structure."
   ]
  },
  {
   "cell_type": "code",
   "execution_count": 2,
   "id": "be42fee4",
   "metadata": {},
   "outputs": [],
   "source": [
    "with open('data.txt', 'r') as f:\n",
    "    next(f)  # skip the first line\n",
    "    next(f)  # skip the second line\n",
    "    next(f)  # skip the third line\n",
    "    data = [tuple(map(int, line.strip().split())) for line in f if not line.startswith('#')]"
   ]
  },
  {
   "cell_type": "markdown",
   "id": "4c7a8af4",
   "metadata": {},
   "source": [
    "Use this cell to normalize the matrix as you see fit."
   ]
  },
  {
   "cell_type": "code",
   "execution_count": 3,
   "id": "2e612783",
   "metadata": {},
   "outputs": [],
   "source": [
    "n_nodes = max(max(pair) for pair in data)\n",
    "row = [pair[0]-1 for pair in data]  \n",
    "col = [pair[1]-1 for pair in data]  \n",
    "adjacency_matrix = csr_matrix(([1]*len(data), (row, col)), shape=(n_nodes, n_nodes))"
   ]
  },
  {
   "cell_type": "markdown",
   "id": "5a4ee89a",
   "metadata": {},
   "source": [
    "Apply the PageRank algorithm to the matrix you created."
   ]
  },
  {
   "cell_type": "code",
   "execution_count": 4,
   "id": "ae9319ef",
   "metadata": {},
   "outputs": [
    {
     "ename": "AttributeError",
     "evalue": "module 'scipy.sparse' has no attribute 'coo_array'",
     "output_type": "error",
     "traceback": [
      "\u001b[1;31m---------------------------------------------------------------------------\u001b[0m",
      "\u001b[1;31mAttributeError\u001b[0m                            Traceback (most recent call last)",
      "Input \u001b[1;32mIn [4]\u001b[0m, in \u001b[0;36m<cell line: 6>\u001b[1;34m()\u001b[0m\n\u001b[0;32m      3\u001b[0m graph \u001b[38;5;241m=\u001b[39m nx\u001b[38;5;241m.\u001b[39mDiGraph()\n\u001b[0;32m      4\u001b[0m graph\u001b[38;5;241m.\u001b[39madd_edges_from(edges)\n\u001b[1;32m----> 6\u001b[0m pagerank_scores \u001b[38;5;241m=\u001b[39m \u001b[43mnx\u001b[49m\u001b[38;5;241;43m.\u001b[39;49m\u001b[43mpagerank\u001b[49m\u001b[43m(\u001b[49m\u001b[43mgraph\u001b[49m\u001b[43m)\u001b[49m\n\u001b[0;32m      8\u001b[0m top_nodes \u001b[38;5;241m=\u001b[39m \u001b[38;5;28msorted\u001b[39m(pagerank_scores\u001b[38;5;241m.\u001b[39mitems(), key\u001b[38;5;241m=\u001b[39m\u001b[38;5;28;01mlambda\u001b[39;00m x: x[\u001b[38;5;241m1\u001b[39m], reverse\u001b[38;5;241m=\u001b[39m\u001b[38;5;28;01mTrue\u001b[39;00m)[:\u001b[38;5;241m10\u001b[39m]\n\u001b[0;32m      9\u001b[0m \u001b[38;5;28;01mfor\u001b[39;00m node, score \u001b[38;5;129;01min\u001b[39;00m top_nodes:\n",
      "File \u001b[1;32m~\\anaconda3\\lib\\site-packages\\networkx\\algorithms\\link_analysis\\pagerank_alg.py:108\u001b[0m, in \u001b[0;36mpagerank\u001b[1;34m(G, alpha, personalization, max_iter, tol, nstart, weight, dangling)\u001b[0m\n\u001b[0;32m      9\u001b[0m \u001b[38;5;28;01mdef\u001b[39;00m \u001b[38;5;21mpagerank\u001b[39m(\n\u001b[0;32m     10\u001b[0m     G,\n\u001b[0;32m     11\u001b[0m     alpha\u001b[38;5;241m=\u001b[39m\u001b[38;5;241m0.85\u001b[39m,\n\u001b[1;32m   (...)\u001b[0m\n\u001b[0;32m     17\u001b[0m     dangling\u001b[38;5;241m=\u001b[39m\u001b[38;5;28;01mNone\u001b[39;00m,\n\u001b[0;32m     18\u001b[0m ):\n\u001b[0;32m     19\u001b[0m     \u001b[38;5;124;03m\"\"\"Returns the PageRank of the nodes in the graph.\u001b[39;00m\n\u001b[0;32m     20\u001b[0m \n\u001b[0;32m     21\u001b[0m \u001b[38;5;124;03m    PageRank computes a ranking of the nodes in the graph G based on\u001b[39;00m\n\u001b[1;32m   (...)\u001b[0m\n\u001b[0;32m    106\u001b[0m \n\u001b[0;32m    107\u001b[0m \u001b[38;5;124;03m    \"\"\"\u001b[39;00m\n\u001b[1;32m--> 108\u001b[0m     \u001b[38;5;28;01mreturn\u001b[39;00m \u001b[43mpagerank_scipy\u001b[49m\u001b[43m(\u001b[49m\n\u001b[0;32m    109\u001b[0m \u001b[43m        \u001b[49m\u001b[43mG\u001b[49m\u001b[43m,\u001b[49m\u001b[43m \u001b[49m\u001b[43malpha\u001b[49m\u001b[43m,\u001b[49m\u001b[43m \u001b[49m\u001b[43mpersonalization\u001b[49m\u001b[43m,\u001b[49m\u001b[43m \u001b[49m\u001b[43mmax_iter\u001b[49m\u001b[43m,\u001b[49m\u001b[43m \u001b[49m\u001b[43mtol\u001b[49m\u001b[43m,\u001b[49m\u001b[43m \u001b[49m\u001b[43mnstart\u001b[49m\u001b[43m,\u001b[49m\u001b[43m \u001b[49m\u001b[43mweight\u001b[49m\u001b[43m,\u001b[49m\u001b[43m \u001b[49m\u001b[43mdangling\u001b[49m\n\u001b[0;32m    110\u001b[0m \u001b[43m    \u001b[49m\u001b[43m)\u001b[49m\n",
      "File \u001b[1;32m~\\anaconda3\\lib\\site-packages\\networkx\\algorithms\\link_analysis\\pagerank_alg.py:469\u001b[0m, in \u001b[0;36mpagerank_scipy\u001b[1;34m(G, alpha, personalization, max_iter, tol, nstart, weight, dangling)\u001b[0m\n\u001b[0;32m    466\u001b[0m     \u001b[38;5;28;01mreturn\u001b[39;00m {}\n\u001b[0;32m    468\u001b[0m nodelist \u001b[38;5;241m=\u001b[39m \u001b[38;5;28mlist\u001b[39m(G)\n\u001b[1;32m--> 469\u001b[0m A \u001b[38;5;241m=\u001b[39m \u001b[43mnx\u001b[49m\u001b[38;5;241;43m.\u001b[39;49m\u001b[43mto_scipy_sparse_array\u001b[49m\u001b[43m(\u001b[49m\u001b[43mG\u001b[49m\u001b[43m,\u001b[49m\u001b[43m \u001b[49m\u001b[43mnodelist\u001b[49m\u001b[38;5;241;43m=\u001b[39;49m\u001b[43mnodelist\u001b[49m\u001b[43m,\u001b[49m\u001b[43m \u001b[49m\u001b[43mweight\u001b[49m\u001b[38;5;241;43m=\u001b[39;49m\u001b[43mweight\u001b[49m\u001b[43m,\u001b[49m\u001b[43m \u001b[49m\u001b[43mdtype\u001b[49m\u001b[38;5;241;43m=\u001b[39;49m\u001b[38;5;28;43mfloat\u001b[39;49m\u001b[43m)\u001b[49m\n\u001b[0;32m    470\u001b[0m S \u001b[38;5;241m=\u001b[39m A\u001b[38;5;241m.\u001b[39msum(axis\u001b[38;5;241m=\u001b[39m\u001b[38;5;241m1\u001b[39m)\n\u001b[0;32m    471\u001b[0m S[S \u001b[38;5;241m!=\u001b[39m \u001b[38;5;241m0\u001b[39m] \u001b[38;5;241m=\u001b[39m \u001b[38;5;241m1.0\u001b[39m \u001b[38;5;241m/\u001b[39m S[S \u001b[38;5;241m!=\u001b[39m \u001b[38;5;241m0\u001b[39m]\n",
      "File \u001b[1;32m~\\anaconda3\\lib\\site-packages\\networkx\\convert_matrix.py:907\u001b[0m, in \u001b[0;36mto_scipy_sparse_array\u001b[1;34m(G, nodelist, dtype, weight, format)\u001b[0m\n\u001b[0;32m    904\u001b[0m     row, col, data \u001b[38;5;241m=\u001b[39m [], [], []\n\u001b[0;32m    906\u001b[0m \u001b[38;5;28;01mif\u001b[39;00m G\u001b[38;5;241m.\u001b[39mis_directed():\n\u001b[1;32m--> 907\u001b[0m     A \u001b[38;5;241m=\u001b[39m \u001b[43msp\u001b[49m\u001b[38;5;241;43m.\u001b[39;49m\u001b[43msparse\u001b[49m\u001b[38;5;241;43m.\u001b[39;49m\u001b[43mcoo_array\u001b[49m((data, (row, col)), shape\u001b[38;5;241m=\u001b[39m(nlen, nlen), dtype\u001b[38;5;241m=\u001b[39mdtype)\n\u001b[0;32m    908\u001b[0m \u001b[38;5;28;01melse\u001b[39;00m:\n\u001b[0;32m    909\u001b[0m     \u001b[38;5;66;03m# symmetrize matrix\u001b[39;00m\n\u001b[0;32m    910\u001b[0m     d \u001b[38;5;241m=\u001b[39m data \u001b[38;5;241m+\u001b[39m data\n",
      "\u001b[1;31mAttributeError\u001b[0m: module 'scipy.sparse' has no attribute 'coo_array'"
     ]
    }
   ],
   "source": [
    "edges = [(pair[0], pair[1]) for pair in data]\n",
    "\n",
    "graph = nx.DiGraph()\n",
    "graph.add_edges_from(edges)\n",
    "\n",
    "pagerank_scores = nx.pagerank(graph)\n",
    "\n",
    "top_nodes = sorted(pagerank_scores.items(), key=lambda x: x[1], reverse=True)[:10]\n",
    "for node, score in top_nodes:\n",
    "    print(f\"Node: {node}, Score: {score:.6f}\")"
   ]
  },
  {
   "cell_type": "markdown",
   "id": "005047ad",
   "metadata": {},
   "source": [
    "Output a list of the 100 most important papers along with their importance"
   ]
  },
  {
   "cell_type": "code",
   "execution_count": null,
   "id": "46d1896d",
   "metadata": {},
   "outputs": [],
   "source": [
    "pagerank_scores = nx.pagerank(graph)\n",
    "\n",
    "\n",
    "sorted_nodes = sorted(pagerank_scores.items(), key=lambda x: x[1], reverse=True)\n",
    "\n",
    "for node, score in sorted_nodes[:100]:\n",
    "    print(f\"Paper ID: {node}\\tImportance Score: {score}\")"
   ]
  },
  {
   "cell_type": "markdown",
   "id": "b0ba2208",
   "metadata": {},
   "source": [
    "Visualize your results"
   ]
  },
  {
   "cell_type": "code",
   "execution_count": null,
   "id": "25affee6",
   "metadata": {},
   "outputs": [],
   "source": [
    "pagerank_scores = nx.pagerank(graph)\n",
    "\n",
    "top_papers = sorted(pagerank_scores.items(), key=lambda x: x[1], reverse=True)[:100]\n",
    "scores = [score for paper, score in top_papers]\n",
    "\n",
    "\n",
    "plt.hist(scores, bins=20 , color=\"black\")\n",
    "plt.xlabel('PageRank score')\n",
    "plt.ylabel('Frequency')\n",
    "plt.title('Distribution of PageRank scores for top 100 papers')\n",
    "plt.show()"
   ]
  },
  {
   "cell_type": "code",
   "execution_count": null,
   "id": "75cce9f4",
   "metadata": {},
   "outputs": [],
   "source": []
  }
 ],
 "metadata": {
  "kernelspec": {
   "display_name": "Python 3 (ipykernel)",
   "language": "python",
   "name": "python3"
  },
  "language_info": {
   "codemirror_mode": {
    "name": "ipython",
    "version": 3
   },
   "file_extension": ".py",
   "mimetype": "text/x-python",
   "name": "python",
   "nbconvert_exporter": "python",
   "pygments_lexer": "ipython3",
   "version": "3.9.12"
  }
 },
 "nbformat": 4,
 "nbformat_minor": 5
}
