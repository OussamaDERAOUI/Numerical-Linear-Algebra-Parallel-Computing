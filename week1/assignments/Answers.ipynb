{
 "cells": [
  {
   "cell_type": "markdown",
   "id": "90f65b95",
   "metadata": {},
   "source": [
    "# Introduction "
   ]
  },
  {
   "cell_type": "markdown",
   "id": "0e85073d",
   "metadata": {},
   "source": [
    "### 1 - Describe solution 1 :"
   ]
  },
  {
   "cell_type": "code",
   "execution_count": 10,
   "id": "8c3cbb61",
   "metadata": {},
   "outputs": [],
   "source": [
    "def count_divisors(n):\n",
    "    count = 0\n",
    "    d = 1\n",
    "    while d <= n :\n",
    "        if n % d == 0 :\n",
    "            count += 1\n",
    "        d += 1\n",
    "    return count"
   ]
  },
  {
   "cell_type": "markdown",
   "id": "87b08810",
   "metadata": {},
   "source": [
    "This function counts total divisors of a number n that it takes as a parameter and using a while loop. it loops over all integers from $1$ to $n$ and checks if it is a divisor of n using $\\%$ operator. If it is the case, it increment the count variable. When $d <= n$ it returns the value of count."
   ]
  },
  {
   "cell_type": "markdown",
   "id": "d0965d12",
   "metadata": {},
   "source": [
    "### 2 - Describe solution 2 :"
   ]
  },
  {
   "cell_type": "code",
   "execution_count": 11,
   "id": "3367de4f",
   "metadata": {},
   "outputs": [],
   "source": [
    "def count_divisors2(n):\n",
    "    count = 0\n",
    "    d = 1\n",
    "    while d*d <= n :\n",
    "        if n % d == 0 :\n",
    "            count += 1 if n / d == d else 2\n",
    "        d += 1\n",
    "    return count"
   ]
  },
  {
   "cell_type": "markdown",
   "id": "511bde8d",
   "metadata": {},
   "source": [
    "This function is more efficient because it only needs to check numbers up to the square root of n. This is because any number that is a divisor of n above the square root of n must have a corresponding divisor that is less than the square root of n, so there's no need to check them separately."
   ]
  },
  {
   "cell_type": "markdown",
   "id": "1aa6cec5",
   "metadata": {},
   "source": [
    "### 3 - Run the two programs for different values of n and measure which algorithm is faster."
   ]
  },
  {
   "cell_type": "code",
   "execution_count": 19,
   "id": "6bc05cef",
   "metadata": {},
   "outputs": [
    {
     "name": "stdout",
     "output_type": "stream",
     "text": [
      "Solution 1\n",
      "6.49 µs ± 46.7 ns per loop (mean ± std. dev. of 7 runs, 100,000 loops each)\n",
      "\n",
      "Solution 2\n",
      "1.13 µs ± 9.58 ns per loop (mean ± std. dev. of 7 runs, 1,000,000 loops each)\n"
     ]
    },
    {
     "data": {
      "text/plain": [
       "9"
      ]
     },
     "execution_count": 19,
     "metadata": {},
     "output_type": "execute_result"
    }
   ],
   "source": [
    "n = 100\n",
    "print('Solution 1')\n",
    "%timeit count_divisors(n)\n",
    "print()\n",
    "print('Solution 2')\n",
    "%timeit count_divisors2(n)\n",
    "count_divisors2(n)"
   ]
  },
  {
   "cell_type": "code",
   "execution_count": 13,
   "id": "d1a3f9c6",
   "metadata": {},
   "outputs": [
    {
     "name": "stdout",
     "output_type": "stream",
     "text": [
      "Solution 1\n",
      "7.34 ms ± 29.6 µs per loop (mean ± std. dev. of 7 runs, 100 loops each)\n",
      "\n",
      "Solution 2\n",
      "27.3 µs ± 758 ns per loop (mean ± std. dev. of 7 runs, 10,000 loops each)\n"
     ]
    }
   ],
   "source": [
    "n = 10000\n",
    "print('Solution 1')\n",
    "%timeit count_divisors(n)\n",
    "print()\n",
    "print('Solution 2')\n",
    "%timeit count_divisors2(n)"
   ]
  },
  {
   "cell_type": "code",
   "execution_count": 14,
   "id": "6b70b2c6",
   "metadata": {},
   "outputs": [
    {
     "name": "stdout",
     "output_type": "stream",
     "text": [
      "Solution 1\n",
      "73 ms ± 621 µs per loop (mean ± std. dev. of 7 runs, 10 loops each)\n",
      "\n",
      "Solution 2\n",
      "91.9 µs ± 226 ns per loop (mean ± std. dev. of 7 runs, 10,000 loops each)\n"
     ]
    }
   ],
   "source": [
    "n = 1000000\n",
    "print('Solution 1')\n",
    "%timeit count_divisors(n)\n",
    "print()\n",
    "print('Solution 2')\n",
    "%timeit count_divisors_(n)"
   ]
  },
  {
   "cell_type": "markdown",
   "id": "199bb6e4",
   "metadata": {},
   "source": [
    "It is apparent that the second soultion is more efficient than the first one, and the difference in performance becomes larger as the n becomes larger too."
   ]
  },
  {
   "cell_type": "markdown",
   "id": "48d16741",
   "metadata": {},
   "source": [
    "### 4 -  Calculate the number of operations executed by each of the programs for different values of n and generalize for any n."
   ]
  },
  {
   "cell_type": "markdown",
   "id": "4d8590ca",
   "metadata": {},
   "source": [
    "Solution 1 : we loop over all integers from $1$ to $n$ and we use one addition and one integer division, so it is $O(2n)$.\n",
    "\n",
    "Solution 2 : we loop from $1$ to $\\sqrt(n)$ and we use one addition ,one integer division and one division, so it is $O(3\\sqrt(n))$ "
   ]
  },
  {
   "cell_type": "markdown",
   "id": "c85dcbe7",
   "metadata": {},
   "source": [
    "# Big O-notation"
   ]
  },
  {
   "cell_type": "markdown",
   "id": "bc5df1f3",
   "metadata": {},
   "source": [
    "### 1 -  $t(n) = 3n^3 + 2n^2 + \\frac{1}{2}n + 7$ prove that $t(n)=O(n^3)$"
   ]
  },
  {
   "cell_type": "markdown",
   "id": "5e9366d7",
   "metadata": {},
   "source": [
    "To prove that $t(n) = O(n^3)$, we need to show that:\n",
    "\n",
    "$$\\lim_{n\\to\\infty} \\frac{t(n)}{n^3} \\leq C,$$\n",
    "\n",
    "where $C$ is a positive constant.\n",
    "\n",
    "Let's evaluate the limit:\n",
    "\n",
    "$$\\lim_{n\\to\\infty} \\frac{t(n)}{n^3} = \\lim_{n\\to\\infty} \\frac{3n^3 + 2n^2 + n + 7}{n^3}$$\n",
    "\n",
    "$$= \\lim_{n\\to\\infty} \\left(3 + \\frac{2}{n} + \\frac{1}{n^2} + \\frac{7}{n^3}\\right)$$\n",
    "\n",
    "As $n$ approaches infinity, the terms with smaller powers of $n$ ($2/n$, $1/n^2$, and $7/n^3$) tend towards zero. Therefore, we have:\n",
    "\n",
    "$$\\lim_{n\\to\\infty} \\frac{t(n)}{n^3} = 3$$\n",
    "\n",
    "Since the limit exists and is finite, we can choose $C=3$, and we have:\n",
    "\n",
    "$$t(n) \\leq Cn^3$$\n",
    "\n",
    "for all $n$ sufficiently large.\n",
    "\n",
    "Therefore, $t(n) = O(n^3)$ is proved by the limit definition of big O notation."
   ]
  },
  {
   "cell_type": "markdown",
   "id": "b3054f51",
   "metadata": {},
   "source": [
    "### 2 - Prove: $\\forall k \\geq 1, n^k $ is not $ O(n^{k-1})$"
   ]
  },
  {
   "cell_type": "markdown",
   "id": "559190b5",
   "metadata": {},
   "source": [
    "To prove that $\\forall k \\geq 1, n^k $ is not $ O(n^{k-1})$, we can use a proof by contradiction.\n",
    "\n",
    "Suppose that for some $k \\geq 1$, $n^k$ is $O(n^{k-1})$. This means that there exist positive constants $C$ and $n_0$ such that:\n",
    "\n",
    "$$n^k \\leq Cn^{k-1}$ for all $n \\geq n_0$$\n",
    "\n",
    "Dividing both sides by $n^{k-1}$, we get:\n",
    "\n",
    "$$n \\leq C$ for all $n \\geq n_0$$\n",
    "\n",
    "However, this is a contradiction, since $n$ can be arbitrarily large, but $C$ is a fixed constant. Therefore, our assumption that $n^k$ is $O(n^{k-1})$ must be false.\n",
    "\n",
    "Hence, we have proved that $\\forall k \\geq 1, n^k$ is not $O(n^{k-1})$."
   ]
  },
  {
   "cell_type": "markdown",
   "id": "1da11f0f",
   "metadata": {},
   "source": [
    "# Merge sort "
   ]
  },
  {
   "cell_type": "markdown",
   "id": "d5577ffe",
   "metadata": {},
   "source": [
    "### 1 - Given two sorted arrays, write a func.on (with a language of your choice) that merge the two arrays into a single sorted array"
   ]
  },
  {
   "cell_type": "code",
   "execution_count": null,
   "id": "a7ac55af",
   "metadata": {},
   "outputs": [],
   "source": [
    "def merge(A,B):\n",
    "    C = [None] * (len(A) + len(B))\n",
    "    i = 0\n",
    "    j = 0\n",
    "    k = 0\n",
    " \n",
    "    while i < len(A) and j < len(B):\n",
    "        if A[i] < B[j]:\n",
    "            C[k] = A[i]\n",
    "            k = k + 1\n",
    "            i = i + 1\n",
    "        else:\n",
    "            C[k] = B[j]\n",
    "            k = k + 1\n",
    "            j = j + 1\n",
    " \n",
    "    while i < len(A):\n",
    "        C[k] = A[i]\n",
    "        k = k + 1\n",
    "        i = i + 1\n",
    " \n",
    "    while j < len(B):\n",
    "        C[k] = B[j]\n",
    "        k = k + 1\n",
    "        j = j + 1\n",
    "    return  C"
   ]
  },
  {
   "cell_type": "markdown",
   "id": "3cd24d21",
   "metadata": {},
   "source": [
    "### 2 -  Analyse the complexity of your function using Big-O notation"
   ]
  },
  {
   "cell_type": "markdown",
   "id": "f8712bab",
   "metadata": {},
   "source": [
    "$O(n+m)$, where n and mis the size of array A and B"
   ]
  },
  {
   "cell_type": "markdown",
   "id": "ca9665b2",
   "metadata": {},
   "source": [
    "# The Master Method"
   ]
  },
  {
   "cell_type": "markdown",
   "id": "160a1874",
   "metadata": {},
   "source": [
    "### 1 - Using the master method analyse the complexity of merge sort"
   ]
  },
  {
   "cell_type": "markdown",
   "id": "78c6ff37",
   "metadata": {},
   "source": [
    "The recurrence relation for merge sort can be expressed as:\n",
    "\n",
    "$$T(n) = 2T(\\frac{n}{2}) + O(n)$$\n",
    "\n",
    "where $T(n)$ is the time complexity for sorting an array of size $n$.\n",
    "\n",
    "Using the master theorem, we can define:\n",
    "\n",
    "$a = 2$ (since we divide the array into two halves)\n",
    "\n",
    "$b = 2$ (since the size of each sub-array is half of the original array)\n",
    "\n",
    "$d = 1$ (since the merging step takes $O(n)$ time)\n",
    "\n",
    "According to the master theorem, we have three cases to consider:\n",
    "\n",
    "Case 1: if $a < b^d$, \n",
    "then $$T(n) = O(n^d) = O(n)$$\n",
    "\n",
    "Since $2 < 2^1$, we are not in this case.\n",
    "\n",
    "Case 2: if $a > b^d$, then $$T(n) = O(n^{\\log_b a}) = O(n^{\\log_2 2}) = O(n)$$\n",
    "\n",
    "Since $2 > 2^1$, we are not in this case.\n",
    "\n",
    "Case 3: if $a = b^d$, \n",
    "then $$T(n) = O(n^d \\log n) = O(n \\log n)$$\n",
    "\n",
    "Since $2 = 2^1$, we are in this case. Therefore, the time complexity of merge sort is $O(n \\log n)$ according to the master theorem."
   ]
  },
  {
   "cell_type": "markdown",
   "id": "0ec9ec73",
   "metadata": {},
   "source": [
    "### 2 - Using the master method analyse the complexity of binary search"
   ]
  },
  {
   "cell_type": "markdown",
   "id": "e7cb2af6",
   "metadata": {},
   "source": [
    "The recurrence relation for binary search can be expressed as:\n",
    "\n",
    "$$T(n) = T(\\frac{n}{2}) + O(1)$$\n",
    "\n",
    "where $T(n)$ is the time complexity for searching an element in a sorted array of size $n$.\n",
    "\n",
    "Using the master theorem, we can define:\n",
    "\n",
    "$a = 1$ (since we divide the array into one half)\n",
    "\n",
    "$b = 2$ (since the size of each sub-array is half of the original array)\n",
    "\n",
    "$d = 0$ (since the comparison operation in binary search takes constant time)\n",
    "\n",
    "According to the master theorem, we have three cases to consider:\n",
    "\n",
    "Case 1: if $a < b^d$, then $$T(n) = O(n^d) = O(1)$$\n",
    "\n",
    "Since $1 < 2^0$, we are in this case so we won't need to check the other cases.Therefore, the time complexity of binary search is $O(1)$ according to the master theorem.\n",
    "\n"
   ]
  },
  {
   "cell_type": "markdown",
   "id": "2dbd8ad4",
   "metadata": {},
   "source": [
    "# Matrix Multiplication"
   ]
  },
  {
   "cell_type": "markdown",
   "id": "4d17cd41",
   "metadata": {},
   "source": [
    "### 1 - Write a function using python3 that multiply two matrices A,B (without the use of numpy or any external library)."
   ]
  },
  {
   "cell_type": "code",
   "execution_count": 18,
   "id": "0cda815f",
   "metadata": {},
   "outputs": [],
   "source": [
    "def matrix_multiplication(A, B):\n",
    "    if len(A[0]) != len(B):\n",
    "        return None\n",
    "\n",
    "    C = []\n",
    "    for i in range(len(A)):\n",
    "        C.append([0]*len(B[0]))\n",
    "        for j in range(len(B[0])):\n",
    "            for k in range(len(B)):\n",
    "                C[i][j] += A[i][k] * B[k][j]\n",
    "\n",
    "    return C\n"
   ]
  },
  {
   "cell_type": "markdown",
   "id": "07ff7fb6",
   "metadata": {},
   "source": [
    "### 2 - What’s the complexity of your algorithm (using big-O notation)?"
   ]
  },
  {
   "cell_type": "markdown",
   "id": "e91b4503",
   "metadata": {},
   "source": [
    "The total number of operations required to compute each element of the resulting matrix is proportional to the product of the dimensions of the input matrices, which is $n^3$ for two $n$ x $n$ matrices (3 nested loops). Then the complexity is $O(n^3)$"
   ]
  },
  {
   "cell_type": "markdown",
   "id": "6dc1bbe5",
   "metadata": {},
   "source": [
    "### 3 - Write the same function in C. (bonus)"
   ]
  },
  {
   "cell_type": "raw",
   "id": "50a1402f",
   "metadata": {},
   "source": [
    "#include <stdio.h>\n",
    "#include <stdlib.h>\n",
    "\n",
    "void matrix_multiplication(int **A, int **B, int **C, int n) {\n",
    "    int i, j, k;\n",
    "    for (i = 0; i < n; i++) {\n",
    "        for (j = 0; j < n; j++) {\n",
    "            C[i][j] = 0;\n",
    "            for (k = 0; k < n; k++) {\n",
    "                C[i][j] += A[i][k] * B[k][j];\n",
    "            }\n",
    "        }\n",
    "    }\n",
    "}"
   ]
  },
  {
   "cell_type": "markdown",
   "id": "e6417f82",
   "metadata": {},
   "source": [
    "# Quiz"
   ]
  },
  {
   "cell_type": "markdown",
   "id": "91a9cbfd",
   "metadata": {},
   "source": [
    "### What will be the time complexity for the following fragments of code?"
   ]
  },
  {
   "cell_type": "code",
   "execution_count": 15,
   "id": "edc60b71",
   "metadata": {},
   "outputs": [],
   "source": [
    "C = 10 \n",
    "B = 0\n",
    "for i in range (n):\n",
    "    B += i*C"
   ]
  },
  {
   "cell_type": "markdown",
   "id": "1fc63a77",
   "metadata": {},
   "source": [
    "A - $O(n)$"
   ]
  },
  {
   "cell_type": "code",
   "execution_count": null,
   "id": "e106e4c1",
   "metadata": {},
   "outputs": [],
   "source": [
    "i = 0\n",
    "while i < n :\n",
    "    i *= k"
   ]
  },
  {
   "cell_type": "markdown",
   "id": "56ee51b2",
   "metadata": {},
   "source": [
    "D - $O(log_kn)$"
   ]
  },
  {
   "cell_type": "code",
   "execution_count": null,
   "id": "daeb1e8c",
   "metadata": {},
   "outputs": [],
   "source": [
    "for i in range(n): \n",
    "    for j in range(m):"
   ]
  },
  {
   "cell_type": "markdown",
   "id": "13a931d1",
   "metadata": {},
   "source": [
    "C - $O(n*m)$"
   ]
  }
 ],
 "metadata": {
  "kernelspec": {
   "display_name": "Python 3 (ipykernel)",
   "language": "python",
   "name": "python3"
  },
  "language_info": {
   "codemirror_mode": {
    "name": "ipython",
    "version": 3
   },
   "file_extension": ".py",
   "mimetype": "text/x-python",
   "name": "python",
   "nbconvert_exporter": "python",
   "pygments_lexer": "ipython3",
   "version": "3.9.12"
  }
 },
 "nbformat": 4,
 "nbformat_minor": 5
}
