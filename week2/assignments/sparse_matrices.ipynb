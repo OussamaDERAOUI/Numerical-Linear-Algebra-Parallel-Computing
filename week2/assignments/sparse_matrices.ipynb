{
 "cells": [
  {
   "cell_type": "markdown",
   "id": "aea03da3",
   "metadata": {},
   "source": [
    "In this assignement, feel free to use the `sparse` module from `scipy`."
   ]
  },
  {
   "cell_type": "markdown",
   "id": "2df42bcc",
   "metadata": {},
   "source": [
    "Use the cell below for your imports."
   ]
  },
  {
   "cell_type": "code",
   "execution_count": 1,
   "id": "e9644e55",
   "metadata": {},
   "outputs": [],
   "source": [
    "import numpy as np\n",
    "from scipy.sparse import csr_matrix, csc_matrix, coo_matrix"
   ]
  },
  {
   "cell_type": "markdown",
   "id": "8948a816",
   "metadata": {},
   "source": [
    "implement the function `mat_mul_coo` that takes two sparse matrices in `coo` and returns their product."
   ]
  },
  {
   "cell_type": "code",
   "execution_count": 35,
   "id": "6047ee0e",
   "metadata": {},
   "outputs": [],
   "source": [
    "from scipy.sparse import coo_matrix\n",
    "\n",
    "def mat_mul_coo(A, B):\n",
    "    # Make sure the matrices are in COO format\n",
    "    A = A.tocoo()\n",
    "    B = B.tocoo()\n",
    "    \n",
    "    # Check if the dimensions are compatible for matrix multiplication\n",
    "    if A.shape[1] != B.shape[0]:\n",
    "        raise ValueError(\"Matrices are not compatible for multiplication\")\n",
    "        \n",
    "    # Convert matrices to dictionaries\n",
    "    A_dict = {(A.row[i], A.col[i]): A.data[i] for i in range(len(A.data))}\n",
    "    B_dict = {(B.row[i], B.col[i]): B.data[i] for i in range(len(B.data))}\n",
    "    \n",
    "    # Compute the product of the two matrices\n",
    "    AB_dict = {}\n",
    "    for key1, val1 in A_dict.items():\n",
    "        for key2, val2 in B_dict.items():\n",
    "            # Check if the columns of matrix A match the rows of matrix B\n",
    "            if key1[1] == key2[0]:\n",
    "                # Compute the dot product and store the result in a dictionary\n",
    "                if (key1[0], key2[1]) in AB_dict:\n",
    "                    AB_dict[(key1[0], key2[1])] += val1 * val2\n",
    "                else:\n",
    "                    AB_dict[(key1[0], key2[1])] = val1 * val2\n",
    "    \n",
    "    # Convert the resulting dictionary to COO format\n",
    "    row = []\n",
    "    col = []\n",
    "    data = []\n",
    "    for key, val in AB_dict.items():\n",
    "        row.append(key[0])\n",
    "        col.append(key[1])\n",
    "        data.append(val)\n",
    "    \n",
    "    # Create a new COO matrix from the resulting data\n",
    "    return coo_matrix((data, (row, col))).toarray()\n"
   ]
  },
  {
   "cell_type": "code",
   "execution_count": 56,
   "id": "c84562a5",
   "metadata": {},
   "outputs": [
    {
     "name": "stdout",
     "output_type": "stream",
     "text": [
      "[[21 48  7]\n",
      " [46  0 17]\n",
      " [42  0 16]]\n"
     ]
    }
   ],
   "source": [
    "a = [[7,8,0],[7,0,5],[4,0,6]]\n",
    "b = [[3,0,1],[0,6,0],[5,0,2]]\n",
    "A = coo_matrix(a)\n",
    "B = coo_matrix(b)\n",
    "print(mat_mul_coo(A, B))"
   ]
  },
  {
   "cell_type": "markdown",
   "id": "4a626dec",
   "metadata": {},
   "source": [
    "implement the function `mat_mul_csr` that takes two sparse matrices in `csr` format and returns their product."
   ]
  },
  {
   "cell_type": "code",
   "execution_count": 44,
   "id": "c2e56fbd",
   "metadata": {},
   "outputs": [],
   "source": [
    "def mat_mul_csr(A, B):\n",
    "    # Make sure the matrices are in CSR format\n",
    "    A = A.tocsr()\n",
    "    B = B.tocsr()\n",
    "\n",
    "    # Check if the dimensions are compatible for matrix multiplication\n",
    "    if A.shape[1] != B.shape[0]:\n",
    "        raise ValueError(\"Matrices are not compatible for multiplication\")\n",
    "    \n",
    "    # Create an empty CSR matrix to hold the result\n",
    "    C = csr_matrix((A.shape[0], B.shape[1]), dtype=np.float64)\n",
    "    \n",
    "    # Perform the matrix multiplication using CSR format\n",
    "    C = A.dot(B)\n",
    "    \n",
    "    return C.toarray()"
   ]
  },
  {
   "cell_type": "code",
   "execution_count": 55,
   "id": "eeaf7c1b",
   "metadata": {},
   "outputs": [
    {
     "name": "stdout",
     "output_type": "stream",
     "text": [
      "[[ 4  5  0]\n",
      " [ 8 10  0]\n",
      " [ 8 10  0]]\n"
     ]
    }
   ],
   "source": [
    "a = csr_matrix([[1,0,0],[2,0,0],[2,0,0]])\n",
    "b = csr_matrix([[4,5,0],[7,0,8],[0,4,4]])\n",
    "print(mat_mul_csr(a, b))"
   ]
  },
  {
   "cell_type": "markdown",
   "id": "9592a90b",
   "metadata": {},
   "source": [
    "implement a function `solve_lin_sys` that takes a matrix `A` in `csr` format and a vector `b` as a numpy array and solves the system `Ax = b`."
   ]
  },
  {
   "cell_type": "code",
   "execution_count": 46,
   "id": "00edeb4c",
   "metadata": {},
   "outputs": [],
   "source": [
    "from scipy.sparse.linalg import spsolve\n",
    "\n",
    "def solve_lin_sys(A, b):\n",
    "    # Make sure the matrix is in CSR format\n",
    "    A = A.tocsr()\n",
    "\n",
    "    # Solve the linear system using the spsolve function from scipy.sparse.linalg\n",
    "    x = spsolve(A, b)\n",
    "    \n",
    "    return x"
   ]
  },
  {
   "cell_type": "code",
   "execution_count": 54,
   "id": "41e0f350",
   "metadata": {},
   "outputs": [
    {
     "name": "stdout",
     "output_type": "stream",
     "text": [
      "[-5.         -4.          4.33333333]\n",
      "[-5.         -4.          4.33333333]\n"
     ]
    }
   ],
   "source": [
    "A = csr_matrix([[1, 0, 3], [0, 5, 6], [7, 0, 9]])\n",
    "b = np.array([8, 6, 4])\n",
    "print(solve_lin_sys(A, b))\n",
    "print(np.linalg.solve(A.toarray(), b))"
   ]
  },
  {
   "cell_type": "code",
   "execution_count": null,
   "id": "43eb11d3",
   "metadata": {},
   "outputs": [],
   "source": []
  }
 ],
 "metadata": {
  "kernelspec": {
   "display_name": "Python 3 (ipykernel)",
   "language": "python",
   "name": "python3"
  },
  "language_info": {
   "codemirror_mode": {
    "name": "ipython",
    "version": 3
   },
   "file_extension": ".py",
   "mimetype": "text/x-python",
   "name": "python",
   "nbconvert_exporter": "python",
   "pygments_lexer": "ipython3",
   "version": "3.9.12"
  }
 },
 "nbformat": 4,
 "nbformat_minor": 5
}
