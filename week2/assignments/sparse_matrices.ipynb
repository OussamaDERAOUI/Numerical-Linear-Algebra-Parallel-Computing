{
 "cells": [
  {
   "cell_type": "markdown",
   "id": "aea03da3",
   "metadata": {},
   "source": [
    "In this assignement, feel free to use the `sparse` module from `scipy`."
   ]
  },
  {
   "cell_type": "markdown",
   "id": "2df42bcc",
   "metadata": {},
   "source": [
    "Use the cell below for your imports."
   ]
  },
  {
   "cell_type": "code",
   "execution_count": 47,
   "id": "e9644e55",
   "metadata": {},
   "outputs": [],
   "source": [
    "import numpy as np\n",
    "from scipy.sparse import csr_matrix, csc_matrix, coo_matrix"
   ]
  },
  {
   "cell_type": "markdown",
   "id": "8948a816",
   "metadata": {},
   "source": [
    "implement the function `mat_mul_coo` that takes two sparse matrices in `coo` and returns their product."
   ]
  },
  {
   "cell_type": "code",
   "execution_count": 46,
   "id": "6047ee0e",
   "metadata": {},
   "outputs": [],
   "source": [
    "def mat_mul_coo(A, B):\n",
    "    # Make sure the matrices are in COO format\n",
    "    A = A.tocoo()\n",
    "    B = B.tocoo()\n",
    "    \n",
    "    # Check if the dimensions are compatible for matrix multiplication\n",
    "    if A.shape[1] != B.shape[0]:\n",
    "        raise ValueError(\"Matrices are not compatible for multiplication\")\n",
    "    \n",
    "    # Create an empty COO matrix to hold the result\n",
    "    C = coo_matrix((A.shape[0], B.shape[1]))\n",
    "    \n",
    "    # Loop over the nonzero entries of A and B and compute the corresponding entries of C\n",
    "    for (i, j, a) in zip(A.row, A.col, A.data):\n",
    "        for (k, l, b) in zip(B.row, B.col, B.data):\n",
    "            if j == k:\n",
    "                C[i, l] += a * b\n",
    "    \n",
    "    return C"
   ]
  },
  {
   "cell_type": "markdown",
   "id": "4a626dec",
   "metadata": {},
   "source": [
    "implement the function `mat_mul_csr` that takes two sparse matrices in `csr` format and returns their product."
   ]
  },
  {
   "cell_type": "code",
   "execution_count": 45,
   "id": "c2e56fbd",
   "metadata": {},
   "outputs": [],
   "source": [
    "def mat_mul_csr(A, B):\n",
    "    # Make sure the matrices are in CSR format\n",
    "    A = A.tocsr()\n",
    "    B = B.tocsr()\n",
    "\n",
    "    # Check if the dimensions are compatible for matrix multiplication\n",
    "    if A.shape[1] != B.shape[0]:\n",
    "        raise ValueError(\"Matrices are not compatible for multiplication\")\n",
    "    \n",
    "    # Create an empty CSR matrix to hold the result\n",
    "    C = csr_matrix((A.shape[0], B.shape[1]), dtype=np.float64)\n",
    "    \n",
    "    # Perform the matrix multiplication using CSR format\n",
    "    C = A.dot(B)\n",
    "    \n",
    "    return C"
   ]
  },
  {
   "cell_type": "markdown",
   "id": "9592a90b",
   "metadata": {},
   "source": [
    "implement a function `solve_lin_sys` that takes a matrix `A` in `csr` format and a vector `b` as a numpy array and solves the system `Ax = b`."
   ]
  },
  {
   "cell_type": "code",
   "execution_count": 44,
   "id": "00edeb4c",
   "metadata": {},
   "outputs": [],
   "source": [
    "from scipy.sparse.linalg import spsolve\n",
    "\n",
    "def solve_lin_sys(A, b):\n",
    "    # Make sure the matrix is in CSR format\n",
    "    A = A.tocsr()\n",
    "\n",
    "    # Solve the linear system using the spsolve function from scipy.sparse.linalg\n",
    "    x = spsolve(A, b)\n",
    "    \n",
    "    return x"
   ]
  }
 ],
 "metadata": {
  "kernelspec": {
   "display_name": "Python 3 (ipykernel)",
   "language": "python",
   "name": "python3"
  },
  "language_info": {
   "codemirror_mode": {
    "name": "ipython",
    "version": 3
   },
   "file_extension": ".py",
   "mimetype": "text/x-python",
   "name": "python",
   "nbconvert_exporter": "python",
   "pygments_lexer": "ipython3",
   "version": "3.9.12"
  }
 },
 "nbformat": 4,
 "nbformat_minor": 5
}
